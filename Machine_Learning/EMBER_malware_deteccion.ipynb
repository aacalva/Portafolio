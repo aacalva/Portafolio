{
  "cells": [
    {
      "cell_type": "markdown",
      "metadata": {
        "id": "view-in-github",
        "colab_type": "text"
      },
      "source": [
        "<a href=\"https://colab.research.google.com/github/aacalva/Portafolio/blob/main/EMBER_malware_deteccion.ipynb\" target=\"_parent\"><img src=\"https://colab.research.google.com/assets/colab-badge.svg\" alt=\"Open In Colab\"/></a>"
      ]
    },
    {
      "cell_type": "code",
      "execution_count": null,
      "metadata": {
        "id": "-6aogNy7tpDc"
      },
      "outputs": [],
      "source": [
        "import os\n",
        "import tensorflow as tf\n",
        "import numpy as np\n",
        "import pandas as pd\n",
        "\n",
        "from sklearn.preprocessing import LabelEncoder, StandardScaler\n",
        "from sklearn.model_selection import train_test_split\n",
        "from sklearn.metrics import classification_report, confusion_matrix\n",
        "\n",
        "from tensorflow.keras import regularizers\n",
        "from tensorflow.keras.layers import Dense, GlobalAveragePooling2D, Flatten, Dropout\n",
        "from tensorflow.keras.preprocessing.image import ImageDataGenerator\n",
        "from tensorflow.keras.models import Model, Sequential\n",
        "from tensorflow.keras.callbacks import EarlyStopping, ModelCheckpoint\n",
        "\n",
        "import matplotlib.pyplot as plt\n",
        "import seaborn as sns"
      ]
    },
    {
      "cell_type": "code",
      "execution_count": null,
      "metadata": {
        "colab": {
          "base_uri": "https://localhost:8080/"
        },
        "id": "FbealCbqtvYq",
        "outputId": "2c8e90f9-ebdd-443a-d591-2ceba86184e9",
        "collapsed": true
      },
      "outputs": [
        {
          "name": "stdout",
          "output_type": "stream",
          "text": [
            "/usr/local/lib/python3.10/dist-packages/gdown/__main__.py:132: FutureWarning: Option `--id` was deprecated in version 4.3.1 and will be removed in 5.0. You don't need to pass it anymore to use a file ID.\n",
            "  warnings.warn(\n",
            "Downloading...\n",
            "From: https://drive.google.com/uc?id=1p_qU0xKD_bsfaYJS2KzuHRuuQIeY6Q5p\n",
            "To: /content/kaggle.json\n",
            "100% 65.0/65.0 [00:00<00:00, 229kB/s]\n",
            "Warning: Your Kaggle API key is readable by other users on this system! To fix this, you can run 'chmod 600 /content/kaggle.json'\n",
            "Dataset URL: https://www.kaggle.com/datasets/edirgarcia/tabular-ember\n",
            "License(s): GNU Affero General Public License 3.0\n",
            "tabular-ember.zip: Skipping, found more recently modified local copy (use --force to force download)\n"
          ]
        }
      ],
      "source": [
        "# Importar archivo .json de kaggler creada desde la cuenta personal en kaggler\n",
        "!gdown --id 1p_qU0xKD_bsfaYJS2KzuHRuuQIeY6Q5p\n",
        "# Se indica la ubicacion del token\n",
        "os.environ['KAGGLE_CONFIG_DIR'] = \"/content/\"\n",
        "\n",
        "# descargamos el dataset\n",
        "!kaggle datasets download -d edirgarcia/tabular-ember"
      ]
    },
    {
      "cell_type": "code",
      "execution_count": null,
      "metadata": {
        "colab": {
          "base_uri": "https://localhost:8080/"
        },
        "id": "vA2MqnGGwh1h",
        "outputId": "f7e440bc-3476-4569-bf3c-edfc750d6973"
      },
      "outputs": [
        {
          "name": "stdout",
          "output_type": "stream",
          "text": [
            "Archive:  tabular-ember.zip\n",
            "replace train_features.csv? [y]es, [n]o, [A]ll, [N]one, [r]ename: "
          ]
        }
      ],
      "source": [
        "!unzip tabular-ember.zip"
      ]
    },
    {
      "cell_type": "code",
      "execution_count": null,
      "metadata": {
        "colab": {
          "base_uri": "https://localhost:8080/"
        },
        "id": "esx01D-kwjOd",
        "outputId": "026f37fa-5b7c-4703-d9ba-d1f7ea2e013b",
        "collapsed": true
      },
      "outputs": [
        {
          "name": "stderr",
          "output_type": "stream",
          "text": [
            "<ipython-input-6-87d29a3063ab>:1: DtypeWarning: Columns (5) have mixed types. Specify dtype option on import or set low_memory=False.\n",
            "  data=pd.read_csv('/content/train_features.csv')\n"
          ]
        },
        {
          "name": "stdout",
          "output_type": "stream",
          "text": [
            "        Unnamed: 0                                             sha256  \\\n",
            "0                0  0abb4fda7d5b13801d63bee53e5e256be43e141faa077a...   \n",
            "1                1  c9cafff8a596ba8a80bafb4ba8ae6f2ef3329d95b85f15...   \n",
            "2                2  eac8ddb4970f8af985742973d6f0e06902d42a3684d791...   \n",
            "3                3  7f513818bcc276c531af2e641c597744da807e21cc1160...   \n",
            "4                4  ca65e1c387a4cc9e7d8a8ce12bf1bcf9f534c9032b9d95...   \n",
            "...            ...                                                ...   \n",
            "799995      799995  68f325a3cce1ab28fa49a856c73bc3ce192073a6fdd8c0...   \n",
            "799996      799996  a75eacd3e4e90c891da6be58ec7838f2d621e4c048ebfc...   \n",
            "799997      799997  652b9130302d33a370c2d26de42cb4983af7bfc286215b...   \n",
            "799998      799998  6984c895dda5a0c02657b00d6993147a4f0a13c65a85db...   \n",
            "799999      799999  f16ecf10906fcb01b635c562278088f620c1fab6eb1a96...   \n",
            "\n",
            "                                     md5 appeared  label avclass  \\\n",
            "0       63956d6417f8f43357d9a8e79e52257e  2006-12      0     NaN   \n",
            "1       6f7bde7a1126debf0cc359a54953efc1  2007-01      0     NaN   \n",
            "2       7520c8f9534ca818726a4feaebf49e2b  2007-02      0     NaN   \n",
            "3       e435a536968941854bcec3b902c439f6  2007-02      0     NaN   \n",
            "4       e93049e2df82ab26f35ad0049173cb14  2007-02      0     NaN   \n",
            "...                                  ...      ...    ...     ...   \n",
            "799995  4078e0cde9be554b2dc6acc91011ee70  2018-10      1  ramnit   \n",
            "799996  dfaa1bf08acca2de9f96c5d18dbdca2c  2018-10      1  wapomi   \n",
            "799997  a1bca279ed442caf4d61487726bc24b1  2018-10      0     NaN   \n",
            "799998  1ae647990e4cd602e87dfb05c0b8ffeb  2018-10      1  wapomi   \n",
            "799999  7563fec04aa83bfbe27438fb045055f8  2018-10      1  ramnit   \n",
            "\n",
            "                                                histogram  \\\n",
            "0       45521|13095|12167|12496|12429|11709|11864|1205...   \n",
            "1       93059|15789|2871|3005|4107|1771|2918|4312|4610...   \n",
            "2       45369|2560|1233|1542|4234|515|613|1542|1841|21...   \n",
            "3       21315|9641|9332|9358|9598|9220|9146|9382|9365|...   \n",
            "4       23539|6015|5214|4727|4892|4649|4367|5299|5625|...   \n",
            "...                                                   ...   \n",
            "799995  36455|1885|1585|1569|2065|1282|1273|1236|2285|...   \n",
            "799996  28581|1334|1189|1161|1328|1116|1004|1018|1258|...   \n",
            "799997  114572|6942|3367|2754|5020|3176|1632|1577|6341...   \n",
            "799998  34585|1498|1197|1182|1535|1155|1051|1039|1466|...   \n",
            "799999  31253|1584|1290|1277|1646|1182|1068|1162|1650|...   \n",
            "\n",
            "                                              byteentropy  numstrings  \\\n",
            "0       0|0|0|0|0|0|0|0|0|0|0|0|0|0|0|0|0|0|0|0|0|0|0|...       14573   \n",
            "1       47100|2|0|0|0|0|2|0|0|0|0|0|0|0|0|0|1938|63|27...        1803   \n",
            "2       6144|0|0|0|0|0|0|0|0|0|0|0|0|0|0|0|1935|3|15|3...        1238   \n",
            "3       0|0|0|0|0|0|0|0|0|0|0|0|0|0|0|0|0|0|0|0|0|0|0|...       11166   \n",
            "4       0|0|0|0|0|0|0|0|0|0|0|0|0|0|0|0|3907|48|16|7|1...        5547   \n",
            "...                                                   ...         ...   \n",
            "799995  4048|4|7|1|5|0|9|10|0|0|1|1|3|3|1|3|0|0|0|0|0|...        3289   \n",
            "799996  6142|0|1|0|0|0|0|0|0|1|0|0|0|0|0|0|1960|5|11|1...        2689   \n",
            "799997  0|0|0|0|0|0|0|0|0|0|0|0|0|0|0|0|0|0|0|0|0|0|0|...        5347   \n",
            "799998  8169|0|3|4|4|1|0|1|0|3|1|2|1|1|2|0|0|0|0|0|0|0...        2750   \n",
            "799999  2048|0|0|0|0|0|0|0|0|0|0|0|0|0|0|0|3937|25|10|...        2663   \n",
            "\n",
            "         avlength  ... optional.major_subsystem_version  \\\n",
            "0        5.972072  ...                                4   \n",
            "1       11.191348  ...                                4   \n",
            "2       12.020194  ...                                4   \n",
            "3        5.807899  ...                                4   \n",
            "4        6.043447  ...                                4   \n",
            "...           ...  ...                              ...   \n",
            "799995   9.132867  ...                                4   \n",
            "799996   7.595761  ...                                4   \n",
            "799997  15.203853  ...                                4   \n",
            "799998   7.785091  ...                                5   \n",
            "799999   7.624108  ...                                4   \n",
            "\n",
            "        optional.minor_subsystem_version  optional.sizeof_code  \\\n",
            "0                                      0                 26624   \n",
            "1                                      0                455680   \n",
            "2                                      0                 80896   \n",
            "3                                      0                 36864   \n",
            "4                                      0                 34304   \n",
            "...                                  ...                   ...   \n",
            "799995                                 0                 47616   \n",
            "799996                                10                 17920   \n",
            "799997                                 0               1267200   \n",
            "799998                                 1                 36352   \n",
            "799999                                10                 34816   \n",
            "\n",
            "        optional.sizeof_headers  optional.sizeof_heap_commit  entry  \\\n",
            "0                          1024                         4096  .text   \n",
            "1                          1024                         4096  .text   \n",
            "2                          1024                         4096  .text   \n",
            "3                          1024                         4096   CODE   \n",
            "4                          1536                         4096  .text   \n",
            "...                         ...                          ...    ...   \n",
            "799995                     1024                         4096  .text   \n",
            "799996                     1024                         4096  .text   \n",
            "799997                     1024                         4096   CODE   \n",
            "799998                     1024                         4096  .text   \n",
            "799999                     1024                         4096  .text   \n",
            "\n",
            "                                                 sections  \\\n",
            "0       .txt_s_26600|.txt_e_6.53|.txt_vs_26100|.txt_CN...   \n",
            "1       .txt_s_455700|.txt_e_6.82|.txt_vs_455300|.txt_...   \n",
            "2       .txt_s_81900|.txt_e_6.46|.txt_vs_80600|.txt_CN...   \n",
            "3       CD_s_36900|CD_e_6.6|CD_vs_36600|CD_CNT_CD|CD_M...   \n",
            "4       .txt_s_34300|.txt_e_6.59|.txt_vs_33900|.txt_CN...   \n",
            "...                                                   ...   \n",
            "799995  .txt_s_47600|.txt_e_6.47|.txt_vs_47100|.txt_CN...   \n",
            "799996  .txt_s_17900|.txt_e_6.44|.txt_vs_17900|.txt_CN...   \n",
            "799997  CD_s_1267200|CD_e_6.57|CD_vs_1266900|CD_CNT_CD...   \n",
            "799998  .txt_s_36400|.txt_e_6.09|.txt_vs_36200|.txt_CN...   \n",
            "799999  .txt_s_34800|.txt_e_6.45|.txt_vs_34600|.txt_CN...   \n",
            "\n",
            "                                                  imports  \\\n",
            "0       KRNL32_StFlTm|KRNL32_CmprFlTm|KRNL32_SrchPth|K...   \n",
            "1       DVP32_CnvrtStrngScrtyDscrptrTScrtyDscrptr|DVP3...   \n",
            "2       DVP32_RgStVlx|DVP32_RgDltKy|DVP32_RgDltVl|DVP3...   \n",
            "3       krnl32_DltCrtclSctn|krnl32_WrtFl|sr32_MssgBx|s...   \n",
            "4       DVP32_RgClsKy|DVP32_llctndntlzSd|DVP32_qlSd|DV...   \n",
            "...                                                   ...   \n",
            "799995  msvcrt_fr|msvcrt__prcll|msvcrt_rllc|msvcrt_mll...   \n",
            "799996  msvcrt_mllc|msvcrt_rllc|msvcrt_??2@YPX@Z|msvcr...   \n",
            "799997                                                NaN   \n",
            "799998  msvcrt_??_@YPX@Z|msvcrt_mmcpy|msvcrt_mmmv|msvc...   \n",
            "799999  msvcrt_??3@YXPX@Z|msvcrt_rllc|msvcrt_??2@YPX@Z...   \n",
            "\n",
            "                                                  exports  \\\n",
            "0                                                     NaN   \n",
            "1                                                     NaN   \n",
            "2                                                     NaN   \n",
            "3                                                     NaN   \n",
            "4                                                     NaN   \n",
            "...                                                   ...   \n",
            "799995  DllCanUnloadNow|DllGetClassObject|DllRegisterS...   \n",
            "799996  DllCanUnloadNow|DllGetClassObject|DllRegisterS...   \n",
            "799997                                                NaN   \n",
            "799998  DllCanUnloadNow|DllGetClassObject|DllRegisterS...   \n",
            "799999  DllCanUnloadNow|DllGetClassObject|DllRegisterS...   \n",
            "\n",
            "                                          datadirectories  \n",
            "0       XPRT_TBL_s_0|XPRT_TBL_va_0|MPRT_TBL_s_200|MPRT...  \n",
            "1       XPRT_TBL_s_0|XPRT_TBL_va_0|MPRT_TBL_s_420|MPRT...  \n",
            "2       XPRT_TBL_s_0|XPRT_TBL_va_0|MPRT_TBL_s_220|MPRT...  \n",
            "3       XPRT_TBL_s_0|XPRT_TBL_va_0|MPRT_TBL_s_2370|MPR...  \n",
            "4       XPRT_TBL_s_0|XPRT_TBL_va_0|MPRT_TBL_s_140|MPRT...  \n",
            "...                                                   ...  \n",
            "799995  XPRT_TBL_s_160|XPRT_TBL_va_51100|MPRT_TBL_s_18...  \n",
            "799996  XPRT_TBL_s_160|XPRT_TBL_va_21800|MPRT_TBL_s_20...  \n",
            "799997  XPRT_TBL_s_0|XPRT_TBL_va_0|MPRT_TBL_s_12550|MP...  \n",
            "799998  XPRT_TBL_s_160|XPRT_TBL_va_37900|MPRT_TBL_s_14...  \n",
            "799999  XPRT_TBL_s_160|XPRT_TBL_va_38500|MPRT_TBL_s_16...  \n",
            "\n",
            "[800000 rows x 49 columns]\n"
          ]
        }
      ],
      "source": [
        "data=pd.read_csv('/content/train_features.csv')\n",
        "print(data)"
      ]
    },
    {
      "cell_type": "code",
      "execution_count": 1,
      "metadata": {
        "colab": {
          "base_uri": "https://localhost:8080/",
          "height": 176
        },
        "id": "2YK_FcAUwl5j",
        "outputId": "c1ad9049-70c7-4e95-c64d-13056875e1df",
        "collapsed": true
      },
      "outputs": [
        {
          "output_type": "error",
          "ename": "NameError",
          "evalue": "name 'data' is not defined",
          "traceback": [
            "\u001b[0;31m---------------------------------------------------------------------------\u001b[0m",
            "\u001b[0;31mNameError\u001b[0m                                 Traceback (most recent call last)",
            "\u001b[0;32m<ipython-input-1-eba28ffdfd20>\u001b[0m in \u001b[0;36m<cell line: 0>\u001b[0;34m()\u001b[0m\n\u001b[1;32m      1\u001b[0m \u001b[0;31m# Sirve para encontrar columnas que tienen valores NaN\u001b[0m\u001b[0;34m\u001b[0m\u001b[0;34m\u001b[0m\u001b[0m\n\u001b[0;32m----> 2\u001b[0;31m \u001b[0mcolumna_vacia\u001b[0m \u001b[0;34m=\u001b[0m \u001b[0mdata\u001b[0m\u001b[0;34m.\u001b[0m\u001b[0mcolumns\u001b[0m\u001b[0;34m[\u001b[0m\u001b[0mdata\u001b[0m\u001b[0;34m.\u001b[0m\u001b[0misnull\u001b[0m\u001b[0;34m(\u001b[0m\u001b[0;34m)\u001b[0m\u001b[0;34m.\u001b[0m\u001b[0many\u001b[0m\u001b[0;34m(\u001b[0m\u001b[0;34m)\u001b[0m\u001b[0;34m]\u001b[0m\u001b[0;34m\u001b[0m\u001b[0;34m\u001b[0m\u001b[0m\n\u001b[0m\u001b[1;32m      3\u001b[0m \u001b[0mprint\u001b[0m\u001b[0;34m(\u001b[0m\u001b[0mcolumna_vacia\u001b[0m\u001b[0;34m)\u001b[0m\u001b[0;34m\u001b[0m\u001b[0;34m\u001b[0m\u001b[0m\n",
            "\u001b[0;31mNameError\u001b[0m: name 'data' is not defined"
          ]
        }
      ],
      "source": [
        "# Sirve para encontrar columnas que tienen valores NaN\n",
        "columna_vacia = data.columns[data.isnull().any()]\n",
        "print(columna_vacia)\n"
      ]
    },
    {
      "cell_type": "markdown",
      "metadata": {
        "id": "7G8l1U7n28xr"
      },
      "source": [
        "**Preprocesamiento de datos**"
      ]
    },
    {
      "cell_type": "code",
      "execution_count": null,
      "metadata": {
        "colab": {
          "base_uri": "https://localhost:8080/"
        },
        "id": "sVr0yTWNwoE5",
        "outputId": "3df3545d-0190-40e4-cbff-ddd3300c2382",
        "collapsed": true
      },
      "outputs": [
        {
          "name": "stdout",
          "output_type": "stream",
          "text": [
            "        Unnamed: 0                                             sha256  \\\n",
            "0                0  0abb4fda7d5b13801d63bee53e5e256be43e141faa077a...   \n",
            "1                1  c9cafff8a596ba8a80bafb4ba8ae6f2ef3329d95b85f15...   \n",
            "2                2  eac8ddb4970f8af985742973d6f0e06902d42a3684d791...   \n",
            "3                3  7f513818bcc276c531af2e641c597744da807e21cc1160...   \n",
            "4                4  ca65e1c387a4cc9e7d8a8ce12bf1bcf9f534c9032b9d95...   \n",
            "...            ...                                                ...   \n",
            "799995      799995  68f325a3cce1ab28fa49a856c73bc3ce192073a6fdd8c0...   \n",
            "799996      799996  a75eacd3e4e90c891da6be58ec7838f2d621e4c048ebfc...   \n",
            "799997      799997  652b9130302d33a370c2d26de42cb4983af7bfc286215b...   \n",
            "799998      799998  6984c895dda5a0c02657b00d6993147a4f0a13c65a85db...   \n",
            "799999      799999  f16ecf10906fcb01b635c562278088f620c1fab6eb1a96...   \n",
            "\n",
            "                                     md5  appeared  label  avclass  \\\n",
            "0       63956d6417f8f43357d9a8e79e52257e         0      0     3068   \n",
            "1       6f7bde7a1126debf0cc359a54953efc1         1      0     3068   \n",
            "2       7520c8f9534ca818726a4feaebf49e2b         2      0     3068   \n",
            "3       e435a536968941854bcec3b902c439f6         2      0     3068   \n",
            "4       e93049e2df82ab26f35ad0049173cb14         2      0     3068   \n",
            "...                                  ...       ...    ...      ...   \n",
            "799995  4078e0cde9be554b2dc6acc91011ee70       138      1     2078   \n",
            "799996  dfaa1bf08acca2de9f96c5d18dbdca2c       138      1     2817   \n",
            "799997  a1bca279ed442caf4d61487726bc24b1       138      0     3068   \n",
            "799998  1ae647990e4cd602e87dfb05c0b8ffeb       138      1     2817   \n",
            "799999  7563fec04aa83bfbe27438fb045055f8       138      1     2078   \n",
            "\n",
            "                                                histogram  \\\n",
            "0       45521|13095|12167|12496|12429|11709|11864|1205...   \n",
            "1       93059|15789|2871|3005|4107|1771|2918|4312|4610...   \n",
            "2       45369|2560|1233|1542|4234|515|613|1542|1841|21...   \n",
            "3       21315|9641|9332|9358|9598|9220|9146|9382|9365|...   \n",
            "4       23539|6015|5214|4727|4892|4649|4367|5299|5625|...   \n",
            "...                                                   ...   \n",
            "799995  36455|1885|1585|1569|2065|1282|1273|1236|2285|...   \n",
            "799996  28581|1334|1189|1161|1328|1116|1004|1018|1258|...   \n",
            "799997  114572|6942|3367|2754|5020|3176|1632|1577|6341...   \n",
            "799998  34585|1498|1197|1182|1535|1155|1051|1039|1466|...   \n",
            "799999  31253|1584|1290|1277|1646|1182|1068|1162|1650|...   \n",
            "\n",
            "                                              byteentropy  numstrings  \\\n",
            "0       0|0|0|0|0|0|0|0|0|0|0|0|0|0|0|0|0|0|0|0|0|0|0|...       14573   \n",
            "1       47100|2|0|0|0|0|2|0|0|0|0|0|0|0|0|0|1938|63|27...        1803   \n",
            "2       6144|0|0|0|0|0|0|0|0|0|0|0|0|0|0|0|1935|3|15|3...        1238   \n",
            "3       0|0|0|0|0|0|0|0|0|0|0|0|0|0|0|0|0|0|0|0|0|0|0|...       11166   \n",
            "4       0|0|0|0|0|0|0|0|0|0|0|0|0|0|0|0|3907|48|16|7|1...        5547   \n",
            "...                                                   ...         ...   \n",
            "799995  4048|4|7|1|5|0|9|10|0|0|1|1|3|3|1|3|0|0|0|0|0|...        3289   \n",
            "799996  6142|0|1|0|0|0|0|0|0|1|0|0|0|0|0|0|1960|5|11|1...        2689   \n",
            "799997  0|0|0|0|0|0|0|0|0|0|0|0|0|0|0|0|0|0|0|0|0|0|0|...        5347   \n",
            "799998  8169|0|3|4|4|1|0|1|0|3|1|2|1|1|2|0|0|0|0|0|0|0...        2750   \n",
            "799999  2048|0|0|0|0|0|0|0|0|0|0|0|0|0|0|0|3937|25|10|...        2663   \n",
            "\n",
            "         avlength  ... optional.major_subsystem_version  \\\n",
            "0        5.972072  ...                                4   \n",
            "1       11.191348  ...                                4   \n",
            "2       12.020194  ...                                4   \n",
            "3        5.807899  ...                                4   \n",
            "4        6.043447  ...                                4   \n",
            "...           ...  ...                              ...   \n",
            "799995   9.132867  ...                                4   \n",
            "799996   7.595761  ...                                4   \n",
            "799997  15.203853  ...                                4   \n",
            "799998   7.785091  ...                                5   \n",
            "799999   7.624108  ...                                4   \n",
            "\n",
            "        optional.minor_subsystem_version  optional.sizeof_code  \\\n",
            "0                                      0                 26624   \n",
            "1                                      0                455680   \n",
            "2                                      0                 80896   \n",
            "3                                      0                 36864   \n",
            "4                                      0                 34304   \n",
            "...                                  ...                   ...   \n",
            "799995                                 0                 47616   \n",
            "799996                                10                 17920   \n",
            "799997                                 0               1267200   \n",
            "799998                                 1                 36352   \n",
            "799999                                10                 34816   \n",
            "\n",
            "        optional.sizeof_headers  optional.sizeof_heap_commit  entry  \\\n",
            "0                          1024                         4096   1218   \n",
            "1                          1024                         4096   1218   \n",
            "2                          1024                         4096   1218   \n",
            "3                          1024                         4096   1920   \n",
            "4                          1536                         4096   1218   \n",
            "...                         ...                          ...    ...   \n",
            "799995                     1024                         4096   1218   \n",
            "799996                     1024                         4096   1218   \n",
            "799997                     1024                         4096   1920   \n",
            "799998                     1024                         4096   1218   \n",
            "799999                     1024                         4096   1218   \n",
            "\n",
            "                                                 sections  imports  \\\n",
            "0       .txt_s_26600|.txt_e_6.53|.txt_vs_26100|.txt_CN...    53802   \n",
            "1       .txt_s_455700|.txt_e_6.82|.txt_vs_455300|.txt_...     5633   \n",
            "2       .txt_s_81900|.txt_e_6.46|.txt_vs_80600|.txt_CN...    10682   \n",
            "3       CD_s_36900|CD_e_6.6|CD_vs_36600|CD_CNT_CD|CD_M...   129400   \n",
            "4       .txt_s_34300|.txt_e_6.59|.txt_vs_33900|.txt_CN...     9231   \n",
            "...                                                   ...      ...   \n",
            "799995  .txt_s_47600|.txt_e_6.47|.txt_vs_47100|.txt_CN...   155602   \n",
            "799996  .txt_s_17900|.txt_e_6.44|.txt_vs_17900|.txt_CN...   156165   \n",
            "799997  CD_s_1267200|CD_e_6.57|CD_vs_1266900|CD_CNT_CD...   175477   \n",
            "799998  .txt_s_36400|.txt_e_6.09|.txt_vs_36200|.txt_CN...   149560   \n",
            "799999  .txt_s_34800|.txt_e_6.45|.txt_vs_34600|.txt_CN...   149539   \n",
            "\n",
            "                                                  exports  \\\n",
            "0                                                     NaN   \n",
            "1                                                     NaN   \n",
            "2                                                     NaN   \n",
            "3                                                     NaN   \n",
            "4                                                     NaN   \n",
            "...                                                   ...   \n",
            "799995  DllCanUnloadNow|DllGetClassObject|DllRegisterS...   \n",
            "799996  DllCanUnloadNow|DllGetClassObject|DllRegisterS...   \n",
            "799997                                                NaN   \n",
            "799998  DllCanUnloadNow|DllGetClassObject|DllRegisterS...   \n",
            "799999  DllCanUnloadNow|DllGetClassObject|DllRegisterS...   \n",
            "\n",
            "                                          datadirectories  \n",
            "0       XPRT_TBL_s_0|XPRT_TBL_va_0|MPRT_TBL_s_200|MPRT...  \n",
            "1       XPRT_TBL_s_0|XPRT_TBL_va_0|MPRT_TBL_s_420|MPRT...  \n",
            "2       XPRT_TBL_s_0|XPRT_TBL_va_0|MPRT_TBL_s_220|MPRT...  \n",
            "3       XPRT_TBL_s_0|XPRT_TBL_va_0|MPRT_TBL_s_2370|MPR...  \n",
            "4       XPRT_TBL_s_0|XPRT_TBL_va_0|MPRT_TBL_s_140|MPRT...  \n",
            "...                                                   ...  \n",
            "799995  XPRT_TBL_s_160|XPRT_TBL_va_51100|MPRT_TBL_s_18...  \n",
            "799996  XPRT_TBL_s_160|XPRT_TBL_va_21800|MPRT_TBL_s_20...  \n",
            "799997  XPRT_TBL_s_0|XPRT_TBL_va_0|MPRT_TBL_s_12550|MP...  \n",
            "799998  XPRT_TBL_s_160|XPRT_TBL_va_37900|MPRT_TBL_s_14...  \n",
            "799999  XPRT_TBL_s_160|XPRT_TBL_va_38500|MPRT_TBL_s_16...  \n",
            "\n",
            "[800000 rows x 49 columns]\n"
          ]
        }
      ],
      "source": [
        "label_encoder=LabelEncoder()\n",
        "data['avclass']=label_encoder.fit_transform(data['avclass'])\n",
        "data['entry']=label_encoder.fit_transform(data['entry'])\n",
        "data['imports']=label_encoder.fit_transform(data['imports'])\n",
        "data['coff.characteristics']=label_encoder.fit_transform(data['coff.characteristics'])\n",
        "data['appeared']=label_encoder.fit_transform(data['appeared'])\n",
        "# convertimos los -1 de label en 1 ya que igual son amenazas\n",
        "data.loc[data['label'] == -1, 'label'] = 1\n",
        "\n",
        "print(data)"
      ]
    },
    {
      "cell_type": "code",
      "execution_count": null,
      "metadata": {
        "id": "K5ICPq5r3YmE"
      },
      "outputs": [],
      "source": [
        "# Seleccionar características relevantes\n",
        "caracteristicas = ['appeared', 'avclass', 'entry',\n",
        "                   'imports', 'coff.characteristics']\n",
        "\n",
        "# Extraer características y etiquetas\n",
        "X = data[caracteristicas]\n",
        "y = data['label']\n",
        "# Normalizar datos\n",
        "scaler = StandardScaler()\n",
        "X_scaled = scaler.fit_transform(X)\n",
        "# Dividir los datos en conjuntos de entrenamiento y prueba\n",
        "X_train, X_test, y_train, y_test = train_test_split(X, y, test_size=0.2, random_state=42)\n",
        "\n"
      ]
    },
    {
      "cell_type": "code",
      "execution_count": null,
      "metadata": {
        "colab": {
          "base_uri": "https://localhost:8080/"
        },
        "id": "kTlKqIqE7Jyq",
        "outputId": "ca8a9928-4731-459b-853f-351576e92f73",
        "collapsed": true
      },
      "outputs": [
        {
          "name": "stdout",
          "output_type": "stream",
          "text": [
            "Epoch 1/50\n",
            "16000/16000 [==============================] - 167s 10ms/step - loss: 0.6654 - accuracy: 0.6231 - val_loss: 0.6619 - val_accuracy: 0.6244\n",
            "Epoch 2/50\n"
          ]
        },
        {
          "name": "stderr",
          "output_type": "stream",
          "text": [
            "/usr/local/lib/python3.10/dist-packages/keras/src/engine/training.py:3103: UserWarning: You are saving your model as an HDF5 file via `model.save()`. This file format is considered legacy. We recommend using instead the native Keras format, e.g. `model.save('my_model.keras')`.\n",
            "  saving_api.save_model(\n"
          ]
        },
        {
          "name": "stdout",
          "output_type": "stream",
          "text": [
            "16000/16000 [==============================] - 147s 9ms/step - loss: 0.6618 - accuracy: 0.6252 - val_loss: 0.6619 - val_accuracy: 0.6244\n",
            "Epoch 3/50\n",
            "16000/16000 [==============================] - 141s 9ms/step - loss: 0.6616 - accuracy: 0.6253 - val_loss: 0.6619 - val_accuracy: 0.6244\n",
            "Epoch 4/50\n",
            "16000/16000 [==============================] - 133s 8ms/step - loss: 0.6615 - accuracy: 0.6253 - val_loss: 0.6619 - val_accuracy: 0.6244\n",
            "Epoch 5/50\n",
            "16000/16000 [==============================] - 136s 8ms/step - loss: 0.6615 - accuracy: 0.6253 - val_loss: 0.6619 - val_accuracy: 0.6244\n",
            "Epoch 6/50\n",
            "16000/16000 [==============================] - 152s 9ms/step - loss: 0.6615 - accuracy: 0.6253 - val_loss: 0.6619 - val_accuracy: 0.6244\n",
            "Epoch 7/50\n",
            "16000/16000 [==============================] - 152s 9ms/step - loss: 0.6615 - accuracy: 0.6253 - val_loss: 0.6619 - val_accuracy: 0.6244\n",
            "Epoch 8/50\n",
            "16000/16000 [==============================] - 141s 9ms/step - loss: 0.6615 - accuracy: 0.6253 - val_loss: 0.6619 - val_accuracy: 0.6244\n",
            "Epoch 9/50\n",
            "16000/16000 [==============================] - 133s 8ms/step - loss: 0.6615 - accuracy: 0.6253 - val_loss: 0.6619 - val_accuracy: 0.6244\n",
            "Epoch 10/50\n",
            "16000/16000 [==============================] - 153s 10ms/step - loss: 0.6615 - accuracy: 0.6253 - val_loss: 0.6619 - val_accuracy: 0.6244\n",
            "Epoch 11/50\n",
            "16000/16000 [==============================] - 148s 9ms/step - loss: 0.6615 - accuracy: 0.6253 - val_loss: 0.6619 - val_accuracy: 0.6244\n",
            "Epoch 12/50\n",
            "16000/16000 [==============================] - 134s 8ms/step - loss: 0.6615 - accuracy: 0.6253 - val_loss: 0.6619 - val_accuracy: 0.6244\n",
            "Epoch 13/50\n",
            "16000/16000 [==============================] - 137s 9ms/step - loss: 0.6615 - accuracy: 0.6253 - val_loss: 0.6619 - val_accuracy: 0.6244\n",
            "Epoch 14/50\n",
            "16000/16000 [==============================] - 133s 8ms/step - loss: 0.6615 - accuracy: 0.6253 - val_loss: 0.6619 - val_accuracy: 0.6244\n",
            "Epoch 15/50\n",
            "16000/16000 [==============================] - 131s 8ms/step - loss: 0.6615 - accuracy: 0.6253 - val_loss: 0.6619 - val_accuracy: 0.6244\n",
            "Epoch 16/50\n",
            "16000/16000 [==============================] - 128s 8ms/step - loss: 0.6615 - accuracy: 0.6253 - val_loss: 0.6619 - val_accuracy: 0.6244\n"
          ]
        }
      ],
      "source": [
        "# Definir el modelo\n",
        "model = Sequential()\n",
        "model.add(Dense(300, activation='relu', input_shape=(X_train.shape[1],)))\n",
        "model.add(Dropout(0.5))\n",
        "model.add(Dense(128, activation='elu'))\n",
        "model.add(Dropout(0.5))\n",
        "model.add(Dense(200, activation='tanh'))\n",
        "model.add(Dropout(0.3))\n",
        "model.add(Dense(256, activation='softplus'))\n",
        "model.add(Dropout(0.2))\n",
        "model.add(Dense(128, activation='relu'))\n",
        "model.add(Dropout(0.5))\n",
        "model.add(Dense(180, activation='selu'))\n",
        "model.add(Dropout(0.5))\n",
        "model.add(Dense(100, activation='relu'))\n",
        "model.add(Dropout(0.5))\n",
        "model.add(Dense(1, activation='sigmoid'))\n",
        "\n",
        "# Compilar el modelo con regularización L2\n",
        "\n",
        "model.compile(optimizer=tf.keras.optimizers.Adamax(learning_rate=0.001),\n",
        "              loss='binary_crossentropy',\n",
        "              metrics=['accuracy'])\n",
        "\n",
        "# Definir callbacks para guardar el mejor modelo\n",
        "early_stopping = EarlyStopping(monitor='val_loss', patience=10, restore_best_weights=True)\n",
        "model_checkpoint = ModelCheckpoint('best_model.h5', save_best_only=True, monitor='val_loss')\n",
        "\n",
        "# Entrenar el modelo\n",
        "history = model.fit(X_train, y_train,\n",
        "                    epochs=50,\n",
        "                    batch_size=32,\n",
        "                    validation_split=0.2,\n",
        "                    callbacks=[early_stopping, model_checkpoint])\n"
      ]
    },
    {
      "cell_type": "code",
      "execution_count": null,
      "metadata": {
        "colab": {
          "base_uri": "https://localhost:8080/"
        },
        "id": "iP4b2kAlJqQw",
        "outputId": "7839c46d-3761-4865-c777-39b63003b99d",
        "collapsed": true
      },
      "outputs": [
        {
          "name": "stdout",
          "output_type": "stream",
          "text": [
            "Model: \"sequential_1\"\n",
            "_________________________________________________________________\n",
            " Layer (type)                Output Shape              Param #   \n",
            "=================================================================\n",
            " dense_2 (Dense)             (None, 300)               1800      \n",
            "                                                                 \n",
            " dropout_1 (Dropout)         (None, 300)               0         \n",
            "                                                                 \n",
            " dense_3 (Dense)             (None, 128)               38528     \n",
            "                                                                 \n",
            " dropout_2 (Dropout)         (None, 128)               0         \n",
            "                                                                 \n",
            " dense_4 (Dense)             (None, 128)               16512     \n",
            "                                                                 \n",
            " dropout_3 (Dropout)         (None, 128)               0         \n",
            "                                                                 \n",
            " dense_5 (Dense)             (None, 256)               33024     \n",
            "                                                                 \n",
            " dropout_4 (Dropout)         (None, 256)               0         \n",
            "                                                                 \n",
            " dense_6 (Dense)             (None, 128)               32896     \n",
            "                                                                 \n",
            " dropout_5 (Dropout)         (None, 128)               0         \n",
            "                                                                 \n",
            " dense_7 (Dense)             (None, 64)                8256      \n",
            "                                                                 \n",
            " dropout_6 (Dropout)         (None, 64)                0         \n",
            "                                                                 \n",
            " dense_8 (Dense)             (None, 100)               6500      \n",
            "                                                                 \n",
            " dropout_7 (Dropout)         (None, 100)               0         \n",
            "                                                                 \n",
            " dense_9 (Dense)             (None, 1)                 101       \n",
            "                                                                 \n",
            "=================================================================\n",
            "Total params: 137617 (537.57 KB)\n",
            "Trainable params: 137617 (537.57 KB)\n",
            "Non-trainable params: 0 (0.00 Byte)\n",
            "_________________________________________________________________\n"
          ]
        }
      ],
      "source": [
        "model.summary()"
      ]
    },
    {
      "cell_type": "code",
      "execution_count": null,
      "metadata": {
        "colab": {
          "background_save": true
        },
        "id": "ks27qBzYBav3",
        "collapsed": true,
        "outputId": "492e7069-d79a-41fe-dfbb-8a6d97b51903"
      },
      "outputs": [
        {
          "name": "stdout",
          "output_type": "stream",
          "text": [
            "5000/5000 [==============================] - 18s 4ms/step - loss: 0.6618 - accuracy: 0.6246\n",
            "Loss: 0.6617587804794312, Accuracy: 0.624625027179718\n",
            "5000/5000 [==============================] - 15s 3ms/step\n"
          ]
        }
      ],
      "source": [
        "# Evaluar el modelo\n",
        "loss, accuracy = model.evaluate(X_test, y_test)\n",
        "print(f'Loss: {loss}, Accuracy: {accuracy}')\n",
        "\n",
        "# Realizar predicciones\n",
        "y_pred = model.predict(X_test)\n",
        "y_pred = (y_pred > 0.5).astype(int)  # Convert probabilities to binary predictions (0 or 1)"
      ]
    },
    {
      "cell_type": "code",
      "execution_count": null,
      "metadata": {
        "colab": {
          "base_uri": "https://localhost:8080/",
          "height": 765
        },
        "id": "akaIVANhOmuL",
        "outputId": "43466331-1ef3-4db5-94ab-65222b764f1d"
      },
      "outputs": [
        {
          "data": {
            "image/png": "[encoded data removed]",
            "text/plain": [
              "<Figure size 640x480 with 2 Axes>"
            ]
          },
          "metadata": {},
          "output_type": "display_data"
        },
        {
          "data": {
            "image/png": "[encoded data removed]",
            "text/plain": [
              "<Figure size 1200x500 with 2 Axes>"
            ]
          },
          "metadata": {},
          "output_type": "display_data"
        }
      ],
      "source": [
        "\n",
        "# Make predictions on the test set\n",
        "#y_pred = model.predict(X_test)\n",
        "#y_pred = (y_pred > 0.5).astype(int)  # Convert probabilities to binary predictions (0 or 1)\n",
        "\n",
        "# Matriz de confusión\n",
        "cm = confusion_matrix(y_test, y_pred)\n",
        "sns.heatmap(cm, annot=True, fmt='d', cmap='Blues')\n",
        "plt.title('Matriz de Confusión')\n",
        "plt.xlabel('Predicción')\n",
        "plt.ylabel('Actual')\n",
        "plt.show()\n",
        "\n",
        "# ... (rest of your code)\n",
        "# Graficar la pérdida y la precisión\n",
        "plt.figure(figsize=(12, 5))\n",
        "\n",
        "# Pérdida\n",
        "plt.subplot(1, 2, 1)\n",
        "plt.plot(history.history['loss'], label='Entrenamiento')\n",
        "plt.plot(history.history['val_loss'], label='Validación')\n",
        "plt.title('Pérdida durante el Entrenamiento')\n",
        "plt.xlabel('Épocas')\n",
        "plt.ylabel('Pérdida')\n",
        "plt.legend()\n",
        "\n",
        "# Precisión\n",
        "plt.subplot(1, 2, 2)\n",
        "plt.plot(history.history['accuracy'], label='Entrenamiento')\n",
        "plt.plot(history.history['val_accuracy'], label='Validación')\n",
        "plt.title('Precisión durante el Entrenamiento')\n",
        "plt.xlabel('Épocas')\n",
        "plt.ylabel('Precisión')\n",
        "plt.legend()\n",
        "\n",
        "plt.show()"
      ]
    }
  ],
  "metadata": {
    "accelerator": "GPU",
    "colab": {
      "gpuType": "T4",
      "provenance": [],
      "authorship_tag": "ABX9TyPbyvVSghCwNaznvOBUp3cq",
      "include_colab_link": true
    },
    "kernelspec": {
      "display_name": "Python 3",
      "name": "python3"
    },
    "language_info": {
      "name": "python"
    }
  },
  "nbformat": 4,
  "nbformat_minor": 0
}
